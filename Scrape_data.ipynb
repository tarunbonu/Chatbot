{
 "cells": [
  {
   "cell_type": "code",
   "execution_count": 18,
   "metadata": {
    "ExecuteTime": {
     "end_time": "2018-04-01T06:35:41.282353Z",
     "start_time": "2018-04-01T06:35:41.278776Z"
    }
   },
   "outputs": [],
   "source": [
    "from bs4 import BeautifulSoup\n",
    "import requests\n",
    "import pandas as pd"
   ]
  },
  {
   "cell_type": "code",
   "execution_count": 19,
   "metadata": {
    "ExecuteTime": {
     "end_time": "2018-04-01T06:35:41.519497Z",
     "start_time": "2018-04-01T06:35:41.515827Z"
    }
   },
   "outputs": [],
   "source": [
    "url = \"https://www.hbs.edu/mba/find-answers/Pages/default.aspx\""
   ]
  },
  {
   "cell_type": "code",
   "execution_count": 20,
   "metadata": {
    "ExecuteTime": {
     "end_time": "2018-04-01T06:35:44.598012Z",
     "start_time": "2018-04-01T06:35:41.795658Z"
    }
   },
   "outputs": [],
   "source": [
    "myResponse = requests.get(url)\n",
    "raw_text = myResponse.text"
   ]
  },
  {
   "cell_type": "code",
   "execution_count": 21,
   "metadata": {
    "ExecuteTime": {
     "end_time": "2018-04-01T06:35:44.644964Z",
     "start_time": "2018-04-01T06:35:44.601171Z"
    }
   },
   "outputs": [],
   "source": [
    "soup = BeautifulSoup(raw_text,'html.parser')\n",
    "all_ques_raw = soup.find_all(\"dt\")\n",
    "all_ans_raw = soup.find_all(\"dd\")"
   ]
  },
  {
   "cell_type": "code",
   "execution_count": 22,
   "metadata": {
    "ExecuteTime": {
     "end_time": "2018-04-01T06:35:44.779095Z",
     "start_time": "2018-04-01T06:35:44.647600Z"
    }
   },
   "outputs": [],
   "source": [
    "all_ques = []\n",
    "all_ans = []\n",
    "\n",
    "for i in range(len(all_ans_raw)):\n",
    "    all_ques.append(all_ques_raw[i].text.replace('\\r','').replace('/',' / ').replace('\\xa0',' ').replace('?',' ?'))\n",
    "    all_ans.append(all_ans_raw[i].text.replace('\\r','').replace('/',' / ').replace('\\xa0',' '))"
   ]
  },
  {
   "cell_type": "code",
   "execution_count": 23,
   "metadata": {
    "ExecuteTime": {
     "end_time": "2018-04-01T06:35:44.872157Z",
     "start_time": "2018-04-01T06:35:44.780685Z"
    }
   },
   "outputs": [],
   "source": [
    "repo_df = pd.DataFrame()"
   ]
  },
  {
   "cell_type": "code",
   "execution_count": 24,
   "metadata": {
    "ExecuteTime": {
     "end_time": "2018-04-01T06:35:44.980372Z",
     "start_time": "2018-04-01T06:35:44.874462Z"
    }
   },
   "outputs": [],
   "source": [
    "repo_df['question'] = all_ques\n",
    "repo_df['answer'] = all_ans"
   ]
  },
  {
   "cell_type": "code",
   "execution_count": 25,
   "metadata": {
    "ExecuteTime": {
     "end_time": "2018-04-01T06:35:45.089138Z",
     "start_time": "2018-04-01T06:35:44.983012Z"
    }
   },
   "outputs": [],
   "source": [
    "repo_df.to_csv('chat_bot_data.csv',index=False)"
   ]
  },
  {
   "cell_type": "code",
   "execution_count": null,
   "metadata": {},
   "outputs": [],
   "source": []
  }
 ],
 "metadata": {
  "kernelspec": {
   "display_name": "Python 3",
   "language": "python",
   "name": "python3"
  },
  "language_info": {
   "codemirror_mode": {
    "name": "ipython",
    "version": 3
   },
   "file_extension": ".py",
   "mimetype": "text/x-python",
   "name": "python",
   "nbconvert_exporter": "python",
   "pygments_lexer": "ipython3",
   "version": "3.7.1"
  }
 },
 "nbformat": 4,
 "nbformat_minor": 2
}
